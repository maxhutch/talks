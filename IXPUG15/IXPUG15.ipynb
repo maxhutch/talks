{
 "cells": [
  {
   "cell_type": "code",
   "execution_count": 1,
   "metadata": {
    "collapsed": true,
    "slideshow": {
     "slide_type": "skip"
    }
   },
   "outputs": [],
   "source": [
    "class Struct:\n",
    "    \"\"\"Masquerade a dictionary with a structure-like behavior.\"\"\"\n",
    "    \"\"\"From gprof2dot.py\"\"\"\n",
    "\n",
    "    def __init__(self, attrs = None):\n",
    "        if attrs is None:\n",
    "            attrs = {}\n",
    "        self.__dict__['_attrs'] = attrs\n",
    "\n",
    "    def __getattr__(self, name):\n",
    "        try:\n",
    "            return self._attrs[name]\n",
    "        except KeyError:\n",
    "            raise AttributeError(name)\n",
    "\n",
    "    def __setattr__(self, name, value):\n",
    "        self._attrs[name] = value\n",
    "\n",
    "    def __str__(self):\n",
    "        return str(self._attrs)\n",
    "\n",
    "    def __repr__(self):\n",
    "        return repr(self._attrs)"
   ]
  },
  {
   "cell_type": "code",
   "execution_count": 2,
   "metadata": {
    "collapsed": false,
    "slideshow": {
     "slide_type": "skip"
    }
   },
   "outputs": [],
   "source": [
    "gpu_d = {}; gpu = Struct(gpu_d)\n",
    "gpu.dpflop = 1870\n",
    "gpu.spflop = 5600\n",
    "gpu.bandwidth = 480\n",
    "gpu.memcap = 24\n",
    "\n",
    "cpu_d = {}; cpu = Struct(cpu_d)\n",
    "cpu.dpflop    = 720\n",
    "cpu.spflop    = 1440\n",
    "cpu.bandwidth = 102\n",
    "cpu.memcap    = 1536\n",
    "\n",
    "knl_d = {}; knl = Struct(knl_d)\n",
    "knl.dpflop    = 3000\n",
    "knl.spflop    = 6000\n",
    "knl.bandwidth = 400\n",
    "knl.far_bandwidth = 90\n",
    "knl.memcap    = 16\n",
    "\n",
    "def roofline(arch):\n",
    "    arch.spkink = arch.spflop * 4 / arch.bandwidth\n",
    "    arch.dpkink = arch.dpflop * 8 / arch.bandwidth\n",
    "roofline(cpu)\n",
    "roofline(gpu)\n",
    "roofline(knl)"
   ]
  },
  {
   "cell_type": "code",
   "execution_count": 3,
   "metadata": {
    "collapsed": false,
    "slideshow": {
     "slide_type": "skip"
    }
   },
   "outputs": [],
   "source": [
    "def sol(new, ref):\n",
    "    new.sol_dpflop = new.dpflop / ref.dpflop\n",
    "    new.sol_spflop = new.spflop / ref.spflop\n",
    "    new.sol_bandwidth = new.bandwidth / ref.bandwidth\n",
    "sol(knl, cpu)\n",
    "sol(gpu, cpu)"
   ]
  },
  {
   "cell_type": "markdown",
   "metadata": {
    "slideshow": {
     "slide_type": "slide"
    }
   },
   "source": [
    "# Performance of accelerators in theory and in practice\n",
    "\n",
    "## Max Hutchinson, University of Chicago\n",
    "\n",
    "## October 2nd, 2015\n",
    "\n",
    "### src: https://github.com/maxhutch/talks"
   ]
  },
  {
   "cell_type": "markdown",
   "metadata": {
    "slideshow": {
     "slide_type": "slide"
    }
   },
   "source": [
    "## My perspective (porting old codes)\n",
    "\n",
    "\\begin{align*}\n",
    "T_{old} &: T_{new} \\\\\n",
    "\\frac{\\text{Work}_{old}}{\\text{Hardware}_{old} \\text{Efficiency}_{old}} &: \\frac{\\text{Work}_{new}}{\\text{Hardware}_{new} \\text{Efficiency}_{new}} \\\\\n",
    "\\frac{\\text{Work}_{old}}{\\text{Hardware}_{old} (1)} &: \\frac{\\text{Work}_{new}}{\\text{Hardware}_{new} \\text{Efficiency}_{new}} \\\\\n",
    "\\frac{1}{\\text{Hardware}_{old} (1)} &: \\frac{1}{\\text{Hardware}_{new} \\text{Efficiency}_{new}} \\\\\n",
    "\\end{align*}\n"
   ]
  },
  {
   "cell_type": "markdown",
   "metadata": {
    "slideshow": {
     "slide_type": "fragment"
    }
   },
   "source": [
    "Now, we can take two perspectives:\n",
    "$$ T_{new} = T_{old} \\frac{\\text{Hardware}_{old}}{\\text{Hardware}_{new} \\text{Efficiency}_{new}} $$\n",
    "or\n",
    "$$\\text{Efficiency}_{new} = \\frac{T_{old}}{T_{new}} \\frac{\\text{Hardware}_{new}}{\\text{Hardware}_{old}} $$"
   ]
  },
  {
   "cell_type": "markdown",
   "metadata": {
    "slideshow": {
     "slide_type": "subslide"
    }
   },
   "source": [
    "## In theory:\n",
    "  0. Calculate roofline kinks and {compute, bandwidth} speeds of light\n",
    "  1. Identify computational motifs in PWDFT\n",
    "  2. Foreach motif:\n",
    "    1. Calculate arithmetic intensity\n",
    "    2. Calculate share of run-time\n",
    "    3. Scale share by speed-of-light given by computational intensity\n",
    "  3. Assemble shares of each motif into overall projection\n",
    "  \n"
   ]
  },
  {
   "cell_type": "markdown",
   "metadata": {
    "slideshow": {
     "slide_type": "fragment"
    }
   },
   "source": [
    "## In practice\n",
    "  5. Compare implementations to speed-of-light "
   ]
  },
  {
   "cell_type": "markdown",
   "metadata": {
    "slideshow": {
     "slide_type": "slide"
    },
    "variables": {
     "\"{:5.2f}\".format(cpu.dpkink)": "56.47",
     "\"{:5.2f}\".format(cpu.spkink)": "56.47",
     "\"{:5.2f}\".format(gpu.dpkink)": "31.17",
     "\"{:5.2f}\".format(gpu.sol_bandwidth)": " 4.71",
     "\"{:5.2f}\".format(gpu.sol_dpflop)": " 2.60",
     "\"{:5.2f}\".format(gpu.sol_spflop)": " 3.89",
     "\"{:5.2f}\".format(gpu.spkink)": "46.67",
     "\"{:5.2f}\".format(knl.dpkink)": "60.00",
     "\"{:5.2f}\".format(knl.sol_bandwidth)": " 3.92",
     "\"{:5.2f}\".format(knl.sol_dpflop)": " 4.17",
     "\"{:5.2f}\".format(knl.sol_spflop)": " 4.17",
     "\"{:5.2f}\".format(knl.spkink)": "60.00",
     "cpu.bandwidth": "102",
     "cpu.dpflop": "720",
     "cpu.spflop": "1440",
     "gpu.bandwidth": "480",
     "gpu.dpflop": "1870",
     "gpu.spflop": "5600",
     "knl.bandwidth": "400",
     "knl.dpflop": "3000",
     "knl.spflop": "6000"
    }
   },
   "source": [
    "### Calculate roofline kinks and {compute, bandwidth} speeds of light\n",
    "\n",
    "|     | CPU Hardware | GPU Hardware | KNL Hardware | Divide | GPU SOL | KNL SOL |\n",
    "| --- | --- | --- | --- | ---    | --- | --- |\n",
    "| DP GFlops | {{cpu.dpflop}} | {{gpu.dpflop}} | {{knl.dpflop}} | | {{\"{:5.2f}\".format(gpu.sol_dpflop)}} | {{\"{:5.2f}\".format(knl.sol_dpflop)}} |\n",
    "| SP GFlops | {{cpu.spflop}} | {{gpu.spflop}} | {{knl.spflop}} | | {{\"{:5.2f}\".format(gpu.sol_spflop)}} | {{\"{:5.2f}\".format(knl.sol_spflop)}} |\n",
    "| Memory Bandwidth (GiB/s) | {{cpu.bandwidth}} | {{gpu.bandwidth}} | {{knl.bandwidth}} | | {{\"{:5.2f}\".format(gpu.sol_bandwidth)}} | {{\"{:5.2f}\".format(knl.sol_bandwidth)}} |\n",
    "| Divide | | | |\n",
    "| DP Roofline kink | {{\"{:5.2f}\".format(cpu.dpkink)}} | {{\"{:5.2f}\".format(gpu.dpkink)}} | {{\"{:5.2f}\".format(knl.dpkink)}} | \n",
    "| SP Roofline kink | {{\"{:5.2f}\".format(cpu.spkink)}} | {{\"{:5.2f}\".format(gpu.spkink)}} | {{\"{:5.2f}\".format(knl.spkink)}} |\n"
   ]
  },
  {
   "cell_type": "markdown",
   "metadata": {
    "slideshow": {
     "slide_type": "slide"
    }
   },
   "source": [
    "### Identify computational motifs\n",
    "\n",
    " 1. Compute the action of the kinetic energy operator\n",
    " 2. FFT G -> R\n",
    " 3. Compute the action of the local potential\n",
    " 4. FFT R -> G\n",
    " 5. Project {G,R} -> $\\beta$\n",
    " 6. Compute the action of the non-local potential (D)\n",
    " 7. Comput the action of the non-trivial overlap (Q)\n",
    " 8. Construct Hamiltonian and overlap matrix\n",
    " 9. Diagonalize"
   ]
  },
  {
   "cell_type": "markdown",
   "metadata": {
    "slideshow": {
     "slide_type": "subslide"
    }
   },
   "source": [
    "### Local potential, kinetic energy, (most) non-local potentials\n",
    "\n",
    "The local potential is diagonal in r-space:\n",
    "$$ \\left< r \\left| V^{loc} \\right| \\phi\\right> = \\left< r \\left| V^{loc} \\right| r\\right> \\left<r \\middle| \\phi\\right>, $$\n",
    "the kinetic energy is diagonal in g-space:\n",
    "$$ \\left< g \\left| T \\right| \\phi\\right> = \\left< g \\left| T \\right| g\\right> \\left<g \\middle| \\phi\\right>, $$\n",
    "and the non-local potential and overlap matrix are block diagonal in $\\beta$-space:\n",
    "$$ \\left< \\beta_{l,a} \\left| V^{nl} \\right| \\phi \\right> = \\sum_{l'}^{l_{max}} \\left< \\beta_{l,a} \\left| V^{nl} \\right| \\beta_{l',a} \\right> \\left<\\beta_{l',a} \\middle| \\phi\\right>, $$\n",
    "$$ \\left< \\beta_{l,a} \\left| S \\right| \\phi \\right> = \\sum_{l'}^{l_{max}} \\left< \\beta_{l,a} \\left| S \\right| \\beta_{l',a} \\right> \\left<\\beta_{l',a} \\middle| \\phi\\right>, $$\n",
    "where $l_{max} \\sim 10$."
   ]
  },
  {
   "cell_type": "markdown",
   "metadata": {
    "slideshow": {
     "slide_type": "fragment"
    }
   },
   "source": [
    "$$ N_{flop} = 2 (2 l_{max} - 1) N_{\\phi} $$\n",
    "$$ N_{mem}  = 4 N_{\\phi} + N_{op} $$\n",
    "Arithmetic intensity = $(l_{max} - 1/2)$, so these are all bandwidth bound."
   ]
  },
  {
   "cell_type": "markdown",
   "metadata": {
    "slideshow": {
     "slide_type": "subslide"
    }
   },
   "source": [
    "### Matrix elements\n",
    "\n",
    "The matrix elements of the Hamiltonian and overlap are constructed by taking inner products of the actions with the vectors:\n",
    "\\begin{align*}\n",
    "\\left< \\phi_i \\left| H \\right| \\phi_j\\right> &= \\sum_g \\left< \\phi_i \\mid g \\right> \\left< g \\mid T \\mid \\phi_j \\right> \\\\\n",
    "&+ \\sum_r \\left< \\phi_i \\mid r \\right> \\left< r \\mid V^{loc} \\mid \\phi_j \\right> \\\\\n",
    "&+ \\sum_{a,l} \\left< \\phi_i \\mid \\beta_{a,l} \\right> \\left< \\beta_{a,l} \\mid V^{loc} \\mid \\phi_j \\right> \n",
    "\\end{align*}"
   ]
  },
  {
   "cell_type": "markdown",
   "metadata": {},
   "source": [
    "$$N_{flop} = N_i N_j 4 (2 N_b - 1) \\qquad N_{mem} = 2 (N_i + N_j) N_b + 2 N_i N_j $$\n",
    "Arithmetic intensity, to leading order, is $2 N_i$. "
   ]
  },
  {
   "cell_type": "markdown",
   "metadata": {
    "slideshow": {
     "slide_type": "subslide"
    }
   },
   "source": [
    "### Fourier transform\n",
    "\n",
    "Fast Fourier transformations are used when computing the action of the local potential and when accumulating the electron density:\n",
    "$$ \\left<r \\mid \\rho \\mid r \\right> = \\sum_{i,k} f_{i,k} \\left< r \\mid \\phi_{i,k} \\right> \\left<\\phi_{i,k} \\mid r \\right> $$\n",
    "\n",
    "FFTs are generally memory-bound, but have more complex access patterns than dense linear algebra."
   ]
  },
  {
   "cell_type": "markdown",
   "metadata": {
    "slideshow": {
     "slide_type": "subslide"
    }
   },
   "source": [
    "### Projection\n",
    "\n",
    "Projection can occur in g-space or r-space.  For large problems, r-space is optimal, so we'll assume it:\n",
    "$$ \\left< \\beta_{a,l} \\mid \\phi_i \\right> = \\sum_{r'} \\sum_{r} \\left< \\beta_l \\mid r' \\right> \\left< r' \\mid G_a \\mid r \\right> \\left< r \\mid \\phi_i \\right> $$\n",
    "The matrix $\\left<r \\mid G_a \\mid r' \\right>$ is a *gather* of the r-space points around atomic center $a$, and very sparse.\n",
    "\n",
    "This is definitely memory bound, probably even memory-latency bound."
   ]
  },
  {
   "cell_type": "code",
   "execution_count": 4,
   "metadata": {
    "collapsed": true,
    "slideshow": {
     "slide_type": "skip"
    }
   },
   "outputs": [],
   "source": [
    "prof_d = {}; prof = Struct(prof_d)\n",
    "prof.fft = .4\n",
    "prof.mat = .3\n",
    "prof.pro = .15\n",
    "prof.ops = .05\n",
    "prof.other = .1"
   ]
  },
  {
   "cell_type": "code",
   "execution_count": 5,
   "metadata": {
    "collapsed": true,
    "slideshow": {
     "slide_type": "skip"
    }
   },
   "outputs": [],
   "source": [
    "def accelerate(profile, sols):\n",
    "    res = {}\n",
    "    for k in profile:\n",
    "        if k in sols:\n",
    "            res[k] = profile[k] / sols[k]\n",
    "        else:\n",
    "            res[k] = profile[k]\n",
    "    return res"
   ]
  },
  {
   "cell_type": "code",
   "execution_count": 6,
   "metadata": {
    "collapsed": false,
    "slideshow": {
     "slide_type": "skip"
    }
   },
   "outputs": [],
   "source": [
    "gpu_sol_d = {}; gpu_sol = Struct(gpu_sol_d)\n",
    "gpu_sol.fft = gpu.sol_bandwidth\n",
    "gpu_sol.mat = gpu.sol_dpflop\n",
    "gpu_sol.pro = gpu.sol_bandwidth\n",
    "gpu_sol.ops = gpu.sol_bandwidth\n",
    "gpu_sol.other = 1.\n",
    "\n",
    "knl_sol_d = {}; knl_sol = Struct(knl_sol_d)\n",
    "knl_sol.fft = knl.sol_bandwidth\n",
    "knl_sol.mat = knl.sol_dpflop\n",
    "knl_sol.pro = knl.sol_bandwidth\n",
    "knl_sol.ops = knl.sol_bandwidth\n",
    "knl_sol.other = 1.\n",
    "\n",
    "gpu_prof_d = accelerate(prof_d, gpu_sol_d)\n",
    "gpu_prof = Struct(gpu_prof_d)\n",
    "\n",
    "knl_prof_d = accelerate(prof_d, knl_sol_d)\n",
    "knl_prof = Struct(knl_prof_d)"
   ]
  },
  {
   "cell_type": "markdown",
   "metadata": {
    "slideshow": {
     "slide_type": "slide"
    },
    "variables": {
     "\"{:5.2f}\".format(1/sum(gpu_prof_d.values()))": " 2.92",
     "\"{:5.2f}\".format(1/sum(knl_prof_d.values()))": " 3.08",
     "\"{:5.3f}\".format(gpu_prof.fft)": "0.085",
     "\"{:5.3f}\".format(gpu_prof.mat)": "0.116",
     "\"{:5.3f}\".format(gpu_prof.ops)": "0.011",
     "\"{:5.3f}\".format(gpu_prof.other)": "0.100",
     "\"{:5.3f}\".format(gpu_prof.pro)": "0.032",
     "\"{:5.3f}\".format(knl_prof.fft)": "0.102",
     "\"{:5.3f}\".format(knl_prof.mat)": "0.072",
     "\"{:5.3f}\".format(knl_prof.ops)": "0.013",
     "\"{:5.3f}\".format(knl_prof.other)": "0.100",
     "\"{:5.3f}\".format(knl_prof.pro)": "0.038",
     "prof.fft": "0.4",
     "prof.mat": "0.3",
     "prof.ops": "0.05",
     "prof.other": "0.1",
     "prof.pro": "0.15"
    }
   },
   "source": [
    "### Assemble shares of each motif into overall projection\n",
    "\n",
    "| Code Section | CPU Profile | GPU Theory | KNL Theory | \n",
    "| ---     | --- | --- | --- |\n",
    "| FFT        | {{prof.fft}} | {{\"{:5.3f}\".format(gpu_prof.fft)}} | {{\"{:5.3f}\".format(knl_prof.fft)}} | \n",
    "| Matrices   | {{prof.mat}} | {{\"{:5.3f}\".format(gpu_prof.mat)}} | {{\"{:5.3f}\".format(knl_prof.mat)}} |\n",
    "| Projection | {{prof.pro}} | {{\"{:5.3f}\".format(gpu_prof.pro)}} | {{\"{:5.3f}\".format(knl_prof.pro)}} |\n",
    "| Operators  | {{prof.ops}} | {{\"{:5.3f}\".format(gpu_prof.ops)}} | {{\"{:5.3f}\".format(knl_prof.ops)}} |\n",
    "| Other      | {{prof.other}} | {{\"{:5.3f}\".format(gpu_prof.other)}} | {{\"{:5.3f}\".format(knl_prof.other)}} |\n",
    "| *Accel*    | 1 | {{\"{:5.2f}\".format(1/sum(gpu_prof_d.values()))}} | {{\"{:5.2f}\".format(1/sum(knl_prof_d.values()))}} |"
   ]
  },
  {
   "cell_type": "code",
   "execution_count": 7,
   "metadata": {
    "collapsed": false,
    "slideshow": {
     "slide_type": "skip"
    }
   },
   "outputs": [
    {
     "name": "stdout",
     "output_type": "stream",
     "text": [
      "6.155893108413263\n",
      "Real value is 4.0\n",
      "4.6248741973277925\n",
      "Real value is 2.9\n"
     ]
    }
   ],
   "source": [
    "gpu_sol_d = {}; gpu_sol = Struct(gpu_sol_d)\n",
    "gpu_sol.fft = 4.8\n",
    "gpu_sol.mat = 7.4\n",
    "gpu_sol.pro = 4.8\n",
    "gpu_sol.ops = 4.8\n",
    "gpu_sol.other = 1.\n",
    "\n",
    "SiHuge_d = {}; SiHuge = Struct(SiHuge_d)\n",
    "SiHuge.fft = 7307.6\n",
    "SiHuge.pro = 4437.5\n",
    "SiHuge.mat = 34050.8\n",
    "SiHuge.other = 418.2\n",
    "SiHuge.ops = 853.1 + 34.7\n",
    "\n",
    "SiHuge_gpu_real_d = {}; SiHuge_gpu_real = Struct(SiHuge_gpu_real_d)\n",
    "SiHuge_gpu_real.fft = 527.3\n",
    "SiHuge_gpu_real.pro = 151.1\n",
    "SiHuge_gpu_real.mat = 432.4\n",
    "SiHuge_gpu_real.other = 379.3 + 1.8\n",
    "SiHuge_gpu_real.ops = 41.3 + 9.0\n",
    "\n",
    "ref = 6289.6\n",
    "for k in SiHuge_gpu_real_d:\n",
    "    SiHuge_gpu_real_d[k] /= ref\n",
    "\n",
    "BhR105EX_d = {}; BhR105EX = Struct(BhR105EX_d)\n",
    "BhR105EX.fft = 14669.1\n",
    "BhR105EX.pro = 6429.1\n",
    "BhR105EX.mat = 0\n",
    "BhR105EX.other = 2188.2\n",
    "BhR105EX.ops = 1233.5 + 367.9 + 219.6 + 789.4\n",
    "\n",
    "def normalize(perf):\n",
    "    total = sum(perf.values())\n",
    "    for k in perf:\n",
    "        perf[k] = perf[k] / total\n",
    "normalize(SiHuge_d)\n",
    "normalize(BhR105EX_d)\n",
    "\n",
    "SiHuge_gpu_d = accelerate(SiHuge_d, gpu_sol_d)\n",
    "SiHuge_gpu = Struct(SiHuge_gpu_d)\n",
    "print(1/sum(SiHuge_gpu_d.values()))\n",
    "print(\"Real value is 4.0\")\n",
    "\n",
    "eff_d = {}\n",
    "for k in SiHuge_gpu_d:\n",
    "    eff_d[k] = SiHuge_gpu_d[k] / SiHuge_gpu_real_d[k]\n",
    "eff = Struct(eff_d)\n",
    "\n",
    "gpu_sol.fft *= 2\n",
    "BhR105EX_gpu = accelerate(BhR105EX_d, gpu_sol_d)\n",
    "print(1/sum(BhR105EX_gpu.values()))\n",
    "print(\"Real value is 2.9\")"
   ]
  },
  {
   "cell_type": "markdown",
   "metadata": {
    "slideshow": {
     "slide_type": "slide"
    },
    "variables": {
     "\"{:5.2f}\".format(1/sum(SiHuge_gpu_d.values()))": " 6.16",
     "\"{:5.2f}\".format(1/sum(SiHuge_gpu_real_d.values()))": " 4.08",
     "\"{:5.2f}\".format(sum(SiHuge_gpu_d.values())/sum(SiHuge_gpu_real_d.values()))": " 0.66",
     "\"{:5.3f}\".format(SiHuge.fft)": "0.155",
     "\"{:5.3f}\".format(SiHuge.mat)": "0.723",
     "\"{:5.3f}\".format(SiHuge.ops)": "0.019",
     "\"{:5.3f}\".format(SiHuge.other)": "0.009",
     "\"{:5.3f}\".format(SiHuge.pro)": "0.094",
     "\"{:5.3f}\".format(SiHuge_gpu.fft)": "0.032",
     "\"{:5.3f}\".format(SiHuge_gpu.mat)": "0.098",
     "\"{:5.3f}\".format(SiHuge_gpu.ops)": "0.004",
     "\"{:5.3f}\".format(SiHuge_gpu.other)": "0.009",
     "\"{:5.3f}\".format(SiHuge_gpu.pro)": "0.020",
     "\"{:5.3f}\".format(SiHuge_gpu_real.fft)": "0.084",
     "\"{:5.3f}\".format(SiHuge_gpu_real.mat)": "0.069",
     "\"{:5.3f}\".format(SiHuge_gpu_real.ops)": "0.008",
     "\"{:5.3f}\".format(SiHuge_gpu_real.pro)": "0.024",
     "\"{:5.3f}\".format(eff.fft)": "0.386",
     "\"{:5.3f}\".format(eff.mat)": "1.421",
     "\"{:5.3f}\".format(eff.ops)": "0.491",
     "\"{:5.3f}\".format(eff.other)": "0.147",
     "\"{:5.3f}\".format(eff.pro)": "0.817"
    }
   },
   "source": [
    "### In practice...\n",
    "\n",
    "| Code Section | CPU Profile  | GPU Theory | GPU Actual | Efficiency |\n",
    "| ---     | --- | --- | --- |\n",
    "| FFT        | {{\"{:5.3f}\".format(SiHuge.fft)}} | {{\"{:5.3f}\".format(SiHuge_gpu.fft)}} | {{\"{:5.3f}\".format(SiHuge_gpu_real.fft)}} | {{\"{:5.3f}\".format(eff.fft)}} |\n",
    "| Matrices   | {{\"{:5.3f}\".format(SiHuge.mat)}} | {{\"{:5.3f}\".format(SiHuge_gpu.mat)}} | {{\"{:5.3f}\".format(SiHuge_gpu_real.mat)}} | {{\"{:5.3f}\".format(eff.mat)}} |\n",
    "| Projection | {{\"{:5.3f}\".format(SiHuge.pro)}} | {{\"{:5.3f}\".format(SiHuge_gpu.pro)}} | {{\"{:5.3f}\".format(SiHuge_gpu_real.pro)}} | {{\"{:5.3f}\".format(eff.pro)}} |\n",
    "| Operators  | {{\"{:5.3f}\".format(SiHuge.ops)}} | {{\"{:5.3f}\".format(SiHuge_gpu.ops)}} | {{\"{:5.3f}\".format(SiHuge_gpu_real.ops)}} | {{\"{:5.3f}\".format(eff.ops)}} |\n",
    "| Other      | {{\"{:5.3f}\".format(SiHuge.other)}} | {{\"{:5.3f}\".format(SiHuge_gpu.other)}} | {{\"{:5.3f}\".format(SiHuge_gpu.other)}} | {{\"{:5.3f}\".format(eff.other)}} |\n",
    "| *Accel*    | 1 | {{\"{:5.2f}\".format(1/sum(SiHuge_gpu_d.values()))}} | {{\"{:5.2f}\".format(1/sum(SiHuge_gpu_real_d.values()))}} | {{\"{:5.2f}\".format(sum(SiHuge_gpu_d.values())/sum(SiHuge_gpu_real_d.values()))}} |\n",
    "\n",
    "This is from a 512-atom Si simulation, the details of which will be in the upcoming \"Electronic Structure Calculations on Graphical Processing Units\""
   ]
  },
  {
   "cell_type": "code",
   "execution_count": 8,
   "metadata": {
    "collapsed": false,
    "slideshow": {
     "slide_type": "skip"
    }
   },
   "outputs": [
    {
     "name": "stdout",
     "output_type": "stream",
     "text": [
      "{'pro': 0.17, 'mat': 0.072, 'ops': 0.05666666666666667, 'fft': 0.45333333333333337, 'other': 0.1}\n",
      "1.1737089201877935\n"
     ]
    }
   ],
   "source": [
    "knl_sol_far_d = {}; knl_sol_far = Struct(knl_sol_far_d)\n",
    "knl_sol_far.fft = knl.sol_bandwidth * knl.far_bandwidth / knl.bandwidth\n",
    "knl_sol_far.mat = knl.sol_dpflop\n",
    "knl_sol_far.pro = knl.sol_bandwidth * knl.far_bandwidth / knl.bandwidth\n",
    "knl_sol_far.ops = knl.sol_bandwidth * knl.far_bandwidth / knl.bandwidth\n",
    "knl_sol_far.other = 1.\n",
    "\n",
    "knl_far_prof_d = accelerate(prof_d, knl_sol_far_d)\n",
    "knl_far_prof = Struct(knl_far_prof_d)\n",
    "print(knl_far_prof_d)\n",
    "print(1/sum(knl_far_prof_d.values()))"
   ]
  },
  {
   "cell_type": "markdown",
   "metadata": {
    "slideshow": {
     "slide_type": "slide"
    },
    "variables": {
     "\"{:5.3f}\".format(1/sum(gpu_prof_d.values()))": "2.915",
     "\"{:5.3f}\".format(1/sum(knl_far_prof_d.values()))": "1.174",
     "\"{:5.3f}\".format(1/sum(knl_prof_d.values()))": "3.077",
     "\"{:5.3f}\".format(gpu_prof.fft)": "0.085",
     "\"{:5.3f}\".format(gpu_prof.mat)": "0.116",
     "\"{:5.3f}\".format(gpu_prof.ops)": "0.011",
     "\"{:5.3f}\".format(gpu_prof.other)": "0.100",
     "\"{:5.3f}\".format(gpu_prof.pro)": "0.032",
     "\"{:5.3f}\".format(knl_far_prof.fft)": "0.453",
     "\"{:5.3f}\".format(knl_far_prof.mat)": "0.072",
     "\"{:5.3f}\".format(knl_far_prof.ops)": "0.057",
     "\"{:5.3f}\".format(knl_far_prof.other)": "0.100",
     "\"{:5.3f}\".format(knl_far_prof.pro)": "0.170",
     "\"{:5.3f}\".format(knl_prof.fft)": "0.102",
     "\"{:5.3f}\".format(knl_prof.mat)": "0.072",
     "\"{:5.3f}\".format(knl_prof.ops)": "0.013",
     "\"{:5.3f}\".format(knl_prof.other)": "0.100",
     "\"{:5.3f}\".format(knl_prof.pro)": "0.038",
     "prof.fft": "0.4",
     "prof.mat": "0.3",
     "prof.ops": "0.05",
     "prof.other": "0.1",
     "prof.pro": "0.15"
    }
   },
   "source": [
    "### WARNING: I've assumed computations fit into MCDRAM\n",
    "\n",
    "| Code Section | CPU Profile | GPU Theory | KNL Theory | KNL (DDR) Theory |  \n",
    "| ---     | --- | --- | --- | --- |\n",
    "| FFT        | {{prof.fft}} | {{\"{:5.3f}\".format(gpu_prof.fft)}} | {{\"{:5.3f}\".format(knl_prof.fft)}} | {{\"{:5.3f}\".format(knl_far_prof.fft)}} | \n",
    "| Matrices   | {{prof.mat}} | {{\"{:5.3f}\".format(gpu_prof.mat)}} | {{\"{:5.3f}\".format(knl_prof.mat)}} | {{\"{:5.3f}\".format(knl_far_prof.mat)}} | \n",
    "| Projection | {{prof.pro}} | {{\"{:5.3f}\".format(gpu_prof.pro)}} | {{\"{:5.3f}\".format(knl_prof.pro)}} | {{\"{:5.3f}\".format(knl_far_prof.pro)}} | \n",
    "| Operators  | {{prof.ops}} | {{\"{:5.3f}\".format(gpu_prof.ops)}} | {{\"{:5.3f}\".format(knl_prof.ops)}} | {{\"{:5.3f}\".format(knl_far_prof.ops)}} | \n",
    "| Other      | {{prof.other}} | {{\"{:5.3f}\".format(gpu_prof.other)}} | {{\"{:5.3f}\".format(knl_prof.other)}} | {{\"{:5.3f}\".format(knl_far_prof.other)}} | \n",
    "| *Accel*    | 1 | {{\"{:5.3f}\".format(1/sum(gpu_prof_d.values()))}} | {{\"{:5.3f}\".format(1/sum(knl_prof_d.values()))}} | {{\"{:5.3f}\".format(1/sum(knl_far_prof_d.values()))}} | \n",
    "\n",
    "### src: https://github.com/maxhutch/talks"
   ]
  }
 ],
 "metadata": {
  "celltoolbar": "Slideshow",
  "kernelspec": {
   "display_name": "Python 3",
   "language": "python",
   "name": "python3"
  },
  "language_info": {
   "codemirror_mode": {
    "name": "ipython",
    "version": 3
   },
   "file_extension": ".py",
   "mimetype": "text/x-python",
   "name": "python",
   "nbconvert_exporter": "python",
   "pygments_lexer": "ipython3",
   "version": "3.4.3"
  }
 },
 "nbformat": 4,
 "nbformat_minor": 0
}
